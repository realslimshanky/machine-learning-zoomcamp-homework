{
 "cells": [
  {
   "cell_type": "markdown",
   "id": "6b4c5215-2ab8-43dd-9bfb-dd16cf4646fa",
   "metadata": {},
   "source": [
    "# 02-regression - Homework"
   ]
  },
  {
   "cell_type": "markdown",
   "id": "82e22711-5020-42d0-b2b8-0ca649f2933f",
   "metadata": {},
   "source": [
    "## Setup & EDA"
   ]
  },
  {
   "cell_type": "code",
   "execution_count": 1,
   "id": "52fcebd3-2705-4966-993c-ce4710b7fb9c",
   "metadata": {},
   "outputs": [],
   "source": [
    "import pandas as pd\n",
    "import numpy as np\n",
    "import matplotlib.pyplot as plt\n",
    "import seaborn as sns\n",
    "\n",
    "%matplotlib inline"
   ]
  },
  {
   "cell_type": "code",
   "execution_count": 2,
   "id": "4aa8aa4b-224a-41fa-b9b8-a4fbabe21c7a",
   "metadata": {},
   "outputs": [],
   "source": [
    "df = pd.read_csv(\"https://raw.githubusercontent.com/alexeygrigorev/datasets/master/car_fuel_efficiency.csv\")"
   ]
  },
  {
   "cell_type": "code",
   "execution_count": 3,
   "id": "789d991d-ccb3-4049-b8e1-b336095740ac",
   "metadata": {},
   "outputs": [
    {
     "data": {
      "text/html": [
       "<div>\n",
       "<style scoped>\n",
       "    .dataframe tbody tr th:only-of-type {\n",
       "        vertical-align: middle;\n",
       "    }\n",
       "\n",
       "    .dataframe tbody tr th {\n",
       "        vertical-align: top;\n",
       "    }\n",
       "\n",
       "    .dataframe thead th {\n",
       "        text-align: right;\n",
       "    }\n",
       "</style>\n",
       "<table border=\"1\" class=\"dataframe\">\n",
       "  <thead>\n",
       "    <tr style=\"text-align: right;\">\n",
       "      <th></th>\n",
       "      <th>engine_displacement</th>\n",
       "      <th>num_cylinders</th>\n",
       "      <th>horsepower</th>\n",
       "      <th>vehicle_weight</th>\n",
       "      <th>acceleration</th>\n",
       "      <th>model_year</th>\n",
       "      <th>origin</th>\n",
       "      <th>fuel_type</th>\n",
       "      <th>drivetrain</th>\n",
       "      <th>num_doors</th>\n",
       "      <th>fuel_efficiency_mpg</th>\n",
       "    </tr>\n",
       "  </thead>\n",
       "  <tbody>\n",
       "    <tr>\n",
       "      <th>0</th>\n",
       "      <td>170</td>\n",
       "      <td>3.0</td>\n",
       "      <td>159.0</td>\n",
       "      <td>3413.433759</td>\n",
       "      <td>17.7</td>\n",
       "      <td>2003</td>\n",
       "      <td>Europe</td>\n",
       "      <td>Gasoline</td>\n",
       "      <td>All-wheel drive</td>\n",
       "      <td>0.0</td>\n",
       "      <td>13.231729</td>\n",
       "    </tr>\n",
       "    <tr>\n",
       "      <th>1</th>\n",
       "      <td>130</td>\n",
       "      <td>5.0</td>\n",
       "      <td>97.0</td>\n",
       "      <td>3149.664934</td>\n",
       "      <td>17.8</td>\n",
       "      <td>2007</td>\n",
       "      <td>USA</td>\n",
       "      <td>Gasoline</td>\n",
       "      <td>Front-wheel drive</td>\n",
       "      <td>0.0</td>\n",
       "      <td>13.688217</td>\n",
       "    </tr>\n",
       "    <tr>\n",
       "      <th>2</th>\n",
       "      <td>170</td>\n",
       "      <td>NaN</td>\n",
       "      <td>78.0</td>\n",
       "      <td>3079.038997</td>\n",
       "      <td>15.1</td>\n",
       "      <td>2018</td>\n",
       "      <td>Europe</td>\n",
       "      <td>Gasoline</td>\n",
       "      <td>Front-wheel drive</td>\n",
       "      <td>0.0</td>\n",
       "      <td>14.246341</td>\n",
       "    </tr>\n",
       "    <tr>\n",
       "      <th>3</th>\n",
       "      <td>220</td>\n",
       "      <td>4.0</td>\n",
       "      <td>NaN</td>\n",
       "      <td>2542.392402</td>\n",
       "      <td>20.2</td>\n",
       "      <td>2009</td>\n",
       "      <td>USA</td>\n",
       "      <td>Diesel</td>\n",
       "      <td>All-wheel drive</td>\n",
       "      <td>2.0</td>\n",
       "      <td>16.912736</td>\n",
       "    </tr>\n",
       "    <tr>\n",
       "      <th>4</th>\n",
       "      <td>210</td>\n",
       "      <td>1.0</td>\n",
       "      <td>140.0</td>\n",
       "      <td>3460.870990</td>\n",
       "      <td>14.4</td>\n",
       "      <td>2009</td>\n",
       "      <td>Europe</td>\n",
       "      <td>Gasoline</td>\n",
       "      <td>All-wheel drive</td>\n",
       "      <td>2.0</td>\n",
       "      <td>12.488369</td>\n",
       "    </tr>\n",
       "  </tbody>\n",
       "</table>\n",
       "</div>"
      ],
      "text/plain": [
       "   engine_displacement  num_cylinders  horsepower  vehicle_weight  \\\n",
       "0                  170            3.0       159.0     3413.433759   \n",
       "1                  130            5.0        97.0     3149.664934   \n",
       "2                  170            NaN        78.0     3079.038997   \n",
       "3                  220            4.0         NaN     2542.392402   \n",
       "4                  210            1.0       140.0     3460.870990   \n",
       "\n",
       "   acceleration  model_year  origin fuel_type         drivetrain  num_doors  \\\n",
       "0          17.7        2003  Europe  Gasoline    All-wheel drive        0.0   \n",
       "1          17.8        2007     USA  Gasoline  Front-wheel drive        0.0   \n",
       "2          15.1        2018  Europe  Gasoline  Front-wheel drive        0.0   \n",
       "3          20.2        2009     USA    Diesel    All-wheel drive        2.0   \n",
       "4          14.4        2009  Europe  Gasoline    All-wheel drive        2.0   \n",
       "\n",
       "   fuel_efficiency_mpg  \n",
       "0            13.231729  \n",
       "1            13.688217  \n",
       "2            14.246341  \n",
       "3            16.912736  \n",
       "4            12.488369  "
      ]
     },
     "execution_count": 3,
     "metadata": {},
     "output_type": "execute_result"
    }
   ],
   "source": [
    "df.head()"
   ]
  },
  {
   "cell_type": "code",
   "execution_count": 4,
   "id": "c75755ec-3571-4b11-b746-e2d67e975b2f",
   "metadata": {},
   "outputs": [],
   "source": [
    "columns_to_consider = [\n",
    "    'engine_displacement',\n",
    "    'horsepower',\n",
    "    'vehicle_weight',\n",
    "    'model_year',\n",
    "    'fuel_efficiency_mpg'\n",
    "]\n",
    "df = df[columns_to_consider]"
   ]
  },
  {
   "cell_type": "code",
   "execution_count": 5,
   "id": "61a49269-fc8b-4cd2-906c-c9dc817bbb1e",
   "metadata": {},
   "outputs": [
    {
     "data": {
      "text/plain": [
       "<Axes: xlabel='fuel_efficiency_mpg', ylabel='Count'>"
      ]
     },
     "execution_count": 5,
     "metadata": {},
     "output_type": "execute_result"
    },
    {
     "data": {
      "image/png": "[encoded data removed]",
      "text/plain": [
       "<Figure size 640x480 with 1 Axes>"
      ]
     },
     "metadata": {},
     "output_type": "display_data"
    }
   ],
   "source": [
    "sns.histplot(df.fuel_efficiency_mpg)"
   ]
  },
  {
   "cell_type": "markdown",
   "id": "e229ebd8-2979-46d4-baf8-cc3988d57979",
   "metadata": {},
   "source": [
    "Summary: Long tail is not detected in fuel_efficiency_mpg"
   ]
  },
  {
   "cell_type": "markdown",
   "id": "1d47dbb1-6b31-4c46-945c-b75b3abdb4b9",
   "metadata": {},
   "source": [
    "---\n",
    "\n",
    "## Question 1\n",
    "\n",
    "### There's one column with missing values. What is it?"
   ]
  },
  {
   "cell_type": "markdown",
   "id": "324b95b0-9357-43bf-9fc7-169b7592a521",
   "metadata": {},
   "source": [
    "### Answer - horsepower"
   ]
  },
  {
   "cell_type": "code",
   "execution_count": 6,
   "id": "faf071df-c12b-4161-8c8c-50e92ce0fe5d",
   "metadata": {},
   "outputs": [
    {
     "data": {
      "text/plain": [
       "engine_displacement      0\n",
       "horsepower             708\n",
       "vehicle_weight           0\n",
       "model_year               0\n",
       "fuel_efficiency_mpg      0\n",
       "dtype: int64"
      ]
     },
     "execution_count": 6,
     "metadata": {},
     "output_type": "execute_result"
    }
   ],
   "source": [
    "df.isnull().sum()"
   ]
  },
  {
   "cell_type": "markdown",
   "id": "fbc31079-8a6e-4e23-b068-179f1b236dfe",
   "metadata": {},
   "source": [
    "---\n",
    "\n",
    "## Question 2\n",
    "\n",
    "### What's the median (50% percentile) for variable 'horsepower'?"
   ]
  },
  {
   "cell_type": "markdown",
   "id": "0b0efadc-3b45-41dd-889c-584fa52be900",
   "metadata": {},
   "source": [
    "### Answer - 149"
   ]
  },
  {
   "cell_type": "code",
   "execution_count": 7,
   "id": "b17d521e-ca87-4627-94d5-369f2254d304",
   "metadata": {},
   "outputs": [
    {
     "data": {
      "text/plain": [
       "np.float64(149.65729212983547)"
      ]
     },
     "execution_count": 7,
     "metadata": {},
     "output_type": "execute_result"
    }
   ],
   "source": [
    "df.horsepower.mean()"
   ]
  },
  {
   "cell_type": "markdown",
   "id": "30283b1d-a885-44ee-8c1e-848f432a6be8",
   "metadata": {},
   "source": [
    "---\n",
    "\n",
    "## Prepare and split the dataset"
   ]
  },
  {
   "cell_type": "code",
   "execution_count": 8,
   "id": "7f2c6c0e-58e0-437f-a0df-1e23b6dd565c",
   "metadata": {},
   "outputs": [],
   "source": [
    "def get_datasets(df, seed):\n",
    "    df = df.copy()\n",
    "\n",
    "    # Get split count\n",
    "    n = len(df)\n",
    "    n_val = int(n * 0.2)\n",
    "    n_test = int(n * 0.2)\n",
    "    n_train = n - (n_val + n_test)\n",
    "    \n",
    "    # Get randomized indexes\n",
    "    indexes = np.arange(n)\n",
    "    np.random.seed(seed)\n",
    "    np.random.shuffle(indexes)\n",
    "    \n",
    "    # Split dataframe\n",
    "    df_train = df.iloc[indexes[:n_train]]\n",
    "    df_val = df.iloc[indexes[n_train:n_train+n_val]]\n",
    "    df_test = df.iloc[indexes[n_train+n_val:]]\n",
    "    \n",
    "    # Reset Indexes\n",
    "    df_train = df_train.reset_index(drop=True)\n",
    "    df_val = df_val.reset_index(drop=True)\n",
    "    df_test = df_test.reset_index(drop=True)\n",
    "    \n",
    "    # Seperate target values\n",
    "    y_train = df_train.fuel_efficiency_mpg.values\n",
    "    y_val = df_val.fuel_efficiency_mpg.values\n",
    "    y_test = df_test.fuel_efficiency_mpg.values\n",
    "    \n",
    "    # Delete target value from training data\n",
    "    del df_train[\"fuel_efficiency_mpg\"]\n",
    "    del df_val[\"fuel_efficiency_mpg\"]\n",
    "    del df_test[\"fuel_efficiency_mpg\"]\n",
    "\n",
    "    return df_train, df_val, df_test, y_train, y_val, y_test\n",
    "\n",
    "df_train, df_val, df_test, y_train, y_val, y_test = get_datasets(df, 42)"
   ]
  },
  {
   "cell_type": "markdown",
   "id": "0c64f33f-3b1e-40ce-bcf4-e55c14b2129f",
   "metadata": {},
   "source": [
    "---\n",
    "\n",
    "## Question 3\n",
    "\n",
    "    We need to deal with missing values for the column from Q1.\n",
    "    We have two options: fill it with 0 or with the mean of this variable.\n",
    "    Try both options. For each, train a linear regression model without regularization using the code from the lessons.\n",
    "    For computing the mean, use the training only!\n",
    "    Use the validation dataset to evaluate the models and compare the RMSE of each option.\n",
    "    Round the RMSE scores to 2 decimal digits using round(score, 2)\n",
    "    Which option gives better RMSE?"
   ]
  },
  {
   "cell_type": "markdown",
   "id": "ef0182b1-85e5-4c48-a8cb-86d49eaf382b",
   "metadata": {},
   "source": [
    "### Answer - RMSE of model trained with Mean is better"
   ]
  },
  {
   "cell_type": "markdown",
   "id": "5b36d9e4-a5e8-45a6-ab77-3de710b1549f",
   "metadata": {},
   "source": [
    "### Training with 0s"
   ]
  },
  {
   "cell_type": "code",
   "execution_count": 9,
   "id": "02af9ea4-be7e-431d-9a95-fd01f0ed4a0a",
   "metadata": {},
   "outputs": [
    {
     "data": {
      "text/plain": [
       "np.float64(0.52)"
      ]
     },
     "execution_count": 9,
     "metadata": {},
     "output_type": "execute_result"
    }
   ],
   "source": [
    "def prepare_x_with_zeros(df):\n",
    "    df = df.copy()\n",
    "    df = df.fillna(0)\n",
    "    return df.values\n",
    "\n",
    "def train_linear_regression(x, y):\n",
    "    x = x.copy()\n",
    "    ones = np.ones(x.shape[0])\n",
    "    x = np.column_stack([ones, x])\n",
    "    xTx = x.T.dot(x)\n",
    "    xTx_inv = np.linalg.inv(xTx)\n",
    "    w_full = xTx_inv.dot(x.T).dot(y)\n",
    "    return w_full[0], w_full[1:]\n",
    "\n",
    "def rmse(y, y_pred):\n",
    "    error = y_pred - y\n",
    "    se = error ** 2\n",
    "    mse = se.mean()\n",
    "    return np.sqrt(mse)\n",
    "\n",
    "x_train = prepare_x_with_zeros(df_train)\n",
    "w0, w = train_linear_regression(x_train, y_train)\n",
    "\n",
    "x_val = prepare_x_with_zeros(df_val)\n",
    "y_pred = w0 + x_val.dot(w)\n",
    "\n",
    "score = rmse(y_val, y_pred)\n",
    "round(score, 2)"
   ]
  },
  {
   "cell_type": "markdown",
   "id": "9f77ba47-2f53-47ed-86ee-b871a0b2444a",
   "metadata": {},
   "source": [
    "### Training with mean of horsepower"
   ]
  },
  {
   "cell_type": "code",
   "execution_count": 10,
   "id": "cb06bbda-2ea0-4e15-9d3e-03f1d6ef33b8",
   "metadata": {},
   "outputs": [
    {
     "data": {
      "text/plain": [
       "np.float64(0.46)"
      ]
     },
     "execution_count": 10,
     "metadata": {},
     "output_type": "execute_result"
    }
   ],
   "source": [
    "def prepare_x_with_mean(df, mean_value):\n",
    "    df = df.copy()\n",
    "    df = df.fillna(mean_value)\n",
    "    return df.values\n",
    "\n",
    "mean_value = df_train.horsepower.mean()\n",
    "\n",
    "x_train = prepare_x_with_mean(df_train, mean_value)\n",
    "w0, w = train_linear_regression(x_train, y_train)\n",
    "\n",
    "x_val = prepare_x_with_mean(df_val, mean_value)\n",
    "y_pred = w0 + x_val.dot(w)\n",
    "\n",
    "score = rmse(y_val, y_pred)\n",
    "round(score, 2)"
   ]
  },
  {
   "cell_type": "markdown",
   "id": "97ca9180-7ff0-401f-b9e6-3b8e6cfe5878",
   "metadata": {},
   "source": [
    "---\n",
    "\n",
    "## Question 4\n",
    "\n",
    "    Now let's train a regularized linear regression.\n",
    "    For this question, fill the NAs with 0.\n",
    "    Try different values of r from this list: [0, 0.01, 0.1, 1, 5, 10, 100].\n",
    "    Use RMSE to evaluate the model on the validation dataset.\n",
    "    Round the RMSE scores to 2 decimal digits.\n",
    "    Which r gives the best RMSE?\n"
   ]
  },
  {
   "cell_type": "markdown",
   "id": "bb935fd5-1185-4b42-9800-4df5c0f4bb56",
   "metadata": {},
   "source": [
    "## Answer - r = 0.01 gives the best RMSE score of 0.51 (looking at 4th decimal place for conclusion - 0.5171)"
   ]
  },
  {
   "cell_type": "code",
   "execution_count": 11,
   "id": "80b2088b-b852-4c53-b966-4015541a2dce",
   "metadata": {},
   "outputs": [
    {
     "name": "stdout",
     "output_type": "stream",
     "text": [
      "r - 0 | rmse - 0.5174\n",
      "r - 0.01 | rmse - 0.5171\n",
      "r - 0.1 | rmse - 0.5188\n",
      "r - 1 | rmse - 0.5222\n",
      "r - 5 | rmse - 0.5229\n",
      "r - 10 | rmse - 0.523\n",
      "r - 100 | rmse - 0.5231\n"
     ]
    }
   ],
   "source": [
    "def train_linear_regression_reg(x, y, r=0.01):\n",
    "    x = x.copy()\n",
    "    ones = np.ones(x.shape[0])\n",
    "    x = np.column_stack([ones, x])\n",
    "    xTx = x.T.dot(x)\n",
    "    xTx = xTx + r * np.eye(xTx.shape[0])\n",
    "    xTx_inv = np.linalg.inv(xTx)\n",
    "    w_full = xTx_inv.dot(x.T).dot(y)\n",
    "    return w_full[0], w_full[1:]\n",
    "\n",
    "for r in [0, 0.01, 0.1, 1, 5, 10, 100]:\n",
    "    x_train = prepare_x_with_zeros(df_train)\n",
    "    w0, w = train_linear_regression_reg(x_train, y_train, r=r)\n",
    "    \n",
    "    \n",
    "    x_val = prepare_x_with_zeros(df_val)\n",
    "    y_pred = w0 + x_val.dot(w)\n",
    "    score = round(rmse(y_val, y_pred), 4)\n",
    "\n",
    "    print(f\"r - {r} | rmse - {score}\")"
   ]
  },
  {
   "cell_type": "markdown",
   "id": "d8edd812-c974-470c-bf39-c9c697ef15e1",
   "metadata": {},
   "source": [
    "---\n",
    "\n",
    "## Question 5\n",
    "\n",
    "    We used seed 42 for splitting the data. Let's find out how selecting the seed influences our score.\n",
    "    Try different seed values: [0, 1, 2, 3, 4, 5, 6, 7, 8, 9].\n",
    "    For each seed, do the train/validation/test split with 60%/20%/20% distribution.\n",
    "    Fill the missing values with 0 and train a model without regularization.\n",
    "    For each seed, evaluate the model on the validation dataset and collect the RMSE scores.\n",
    "    What's the standard deviation of all the scores? To compute the standard deviation, use np.std.\n",
    "    Round the result to 3 decimal digits (round(std, 3))\n"
   ]
  },
  {
   "cell_type": "markdown",
   "id": "56a0ec5d-29e3-494a-8e3c-7d2ac1f28533",
   "metadata": {},
   "source": [
    "### Answer - The standard deviation is 0.007"
   ]
  },
  {
   "cell_type": "code",
   "execution_count": 12,
   "id": "66fc3919-4e22-45e5-8df2-477457761372",
   "metadata": {},
   "outputs": [
    {
     "data": {
      "text/plain": [
       "np.float64(0.007)"
      ]
     },
     "execution_count": 12,
     "metadata": {},
     "output_type": "execute_result"
    }
   ],
   "source": [
    "scores = []\n",
    "\n",
    "for seed in [0, 1, 2, 3, 4, 5, 6, 7, 8, 9]:\n",
    "    df_train, df_val, df_test, y_train, y_val, y_test = get_datasets(df, seed)\n",
    "\n",
    "    x_train = prepare_x_with_zeros(df_train)\n",
    "    w0, w = train_linear_regression(x_train, y_train)\n",
    "    \n",
    "    x_val = prepare_x_with_zeros(df_val)\n",
    "    y_pred = w0 + x_val.dot(w)\n",
    "    \n",
    "    scores.append(rmse(y_val, y_pred))\n",
    "\n",
    "round(np.std(scores), 3)"
   ]
  },
  {
   "cell_type": "markdown",
   "id": "e12f74fb-fde3-4d34-8e42-cd2abaaf0044",
   "metadata": {},
   "source": [
    "---\n",
    "\n",
    "## Question 6\n",
    "\n",
    "    Split the dataset like previously, use seed 9.\n",
    "    Combine train and validation datasets.\n",
    "    Fill the missing values with 0 and train a model with r=0.001.\n",
    "    What's the RMSE on the test dataset?\n"
   ]
  },
  {
   "cell_type": "markdown",
   "id": "d31f062e-e136-4ab0-b6e7-4dcab0b88507",
   "metadata": {},
   "source": [
    "## Answer - RMSE is 0.515"
   ]
  },
  {
   "cell_type": "code",
   "execution_count": 13,
   "id": "889d6c90-6967-4250-a832-819165732c16",
   "metadata": {},
   "outputs": [
    {
     "data": {
      "text/plain": [
       "np.float64(0.5156261299166541)"
      ]
     },
     "execution_count": 13,
     "metadata": {},
     "output_type": "execute_result"
    }
   ],
   "source": [
    "df_train, df_val, df_test, y_train, y_val, y_test = get_datasets(df, 9)\n",
    "\n",
    "df_full_train = pd.concat([df_train, df_val])\n",
    "y_full_train = np.concatenate([y_train, y_val])\n",
    "\n",
    "x_full_train = prepare_x_with_zeros(df_full_train)\n",
    "w0, w = train_linear_regression_reg(x_full_train, y_full_train, 0.001)\n",
    "\n",
    "x_test = prepare_x_with_zeros(df_test)\n",
    "y_pred = w0 + x_test.dot(w)\n",
    "\n",
    "rmse(y_test, y_pred)"
   ]
  }
 ],
 "metadata": {
  "kernelspec": {
   "display_name": "Python 3 (ipykernel)",
   "language": "python",
   "name": "python3"
  },
  "language_info": {
   "codemirror_mode": {
    "name": "ipython",
    "version": 3
   },
   "file_extension": ".py",
   "mimetype": "text/x-python",
   "name": "python",
   "nbconvert_exporter": "python",
   "pygments_lexer": "ipython3",
   "version": "3.13.2"
  }
 },
 "nbformat": 4,
 "nbformat_minor": 5
}
