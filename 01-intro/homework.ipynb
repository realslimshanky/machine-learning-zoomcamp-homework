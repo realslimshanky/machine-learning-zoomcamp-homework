{
 "cells": [
  {
   "cell_type": "markdown",
   "id": "aa8bf09d-d3e2-43e7-ac78-7e874a684c65",
   "metadata": {},
   "source": [
    "# 0.1 Homework"
   ]
  },
  {
   "cell_type": "markdown",
   "id": "c3aa4376-5360-44c5-b2f4-b8af8dc033ff",
   "metadata": {},
   "source": [
    "### Q1. Pandas version"
   ]
  },
  {
   "cell_type": "code",
   "execution_count": 57,
   "id": "ae46e4ae-b878-4410-8e9b-bffa93e04a17",
   "metadata": {},
   "outputs": [
    {
     "data": {
      "text/plain": [
       "'2.3.2'"
      ]
     },
     "execution_count": 57,
     "metadata": {},
     "output_type": "execute_result"
    }
   ],
   "source": [
    "import pandas as pd\n",
    "import numpy as np\n",
    "pd.__version__"
   ]
  },
  {
   "cell_type": "markdown",
   "id": "aa9150ad-60c9-437d-8b77-0b4a7a06c13a",
   "metadata": {},
   "source": [
    "### Q2. Records count"
   ]
  },
  {
   "cell_type": "code",
   "execution_count": 9,
   "id": "291a8d3e-bc1c-4373-b7f8-b4dc00d3845c",
   "metadata": {},
   "outputs": [
    {
     "data": {
      "text/plain": [
       "9704"
      ]
     },
     "execution_count": 9,
     "metadata": {},
     "output_type": "execute_result"
    }
   ],
   "source": [
    "df = pd.read_csv(\"https://raw.githubusercontent.com/alexeygrigorev/datasets/master/car_fuel_efficiency.csv\")\n",
    "df.shape[0]"
   ]
  },
  {
   "cell_type": "markdown",
   "id": "83d76095-098b-4d79-ac44-af7c5fb771bc",
   "metadata": {},
   "source": [
    "### Q3. Fuel types"
   ]
  },
  {
   "cell_type": "code",
   "execution_count": 11,
   "id": "84e17f1e-f3b3-47b5-a878-feac9640e5de",
   "metadata": {},
   "outputs": [
    {
     "data": {
      "text/plain": [
       "2"
      ]
     },
     "execution_count": 11,
     "metadata": {},
     "output_type": "execute_result"
    }
   ],
   "source": [
    "len(pd.unique(df[\"fuel_type\"]))"
   ]
  },
  {
   "cell_type": "markdown",
   "id": "8653c2d9-316b-4b2d-9343-75ae81bf1f71",
   "metadata": {},
   "source": [
    "### Q4. Missing values"
   ]
  },
  {
   "cell_type": "code",
   "execution_count": 30,
   "id": "04c7e404-202f-4a9a-8e70-df4d56036a6f",
   "metadata": {},
   "outputs": [
    {
     "data": {
      "text/plain": [
       "4"
      ]
     },
     "execution_count": 30,
     "metadata": {},
     "output_type": "execute_result"
    }
   ],
   "source": [
    "sum([1 for column in df.columns if any(df[column].isnull())])"
   ]
  },
  {
   "cell_type": "markdown",
   "id": "671fd8f9-717c-4f0b-badb-4ff81a5c81c0",
   "metadata": {},
   "source": [
    "### Q5. Max fuel efficiency"
   ]
  },
  {
   "cell_type": "code",
   "execution_count": 37,
   "id": "6e56cacc-bcba-4f6d-b237-4d743a0ee9e5",
   "metadata": {},
   "outputs": [
    {
     "data": {
      "text/plain": [
       "np.float64(23.759122836520497)"
      ]
     },
     "execution_count": 37,
     "metadata": {},
     "output_type": "execute_result"
    }
   ],
   "source": [
    "df[df.origin == \"Asia\"].fuel_efficiency_mpg.max()"
   ]
  },
  {
   "cell_type": "code",
   "execution_count": 38,
   "id": "c409b730-bd3f-4d81-833b-5829d9a29511",
   "metadata": {},
   "outputs": [
    {
     "data": {
      "text/plain": [
       "np.float64(23.76)"
      ]
     },
     "execution_count": 38,
     "metadata": {},
     "output_type": "execute_result"
    }
   ],
   "source": [
    "df[df.origin == \"Asia\"].fuel_efficiency_mpg.max().round(2)"
   ]
  },
  {
   "cell_type": "markdown",
   "id": "6cae9ab2-1c68-48f2-998a-a4573ed19154",
   "metadata": {},
   "source": [
    "### Q6. Median value of horsepower"
   ]
  },
  {
   "cell_type": "code",
   "execution_count": 42,
   "id": "9441c024-8a4f-4815-84f4-f00d742a64e2",
   "metadata": {},
   "outputs": [
    {
     "data": {
      "text/plain": [
       "np.float64(149.0)"
      ]
     },
     "execution_count": 42,
     "metadata": {},
     "output_type": "execute_result"
    }
   ],
   "source": [
    "df.horsepower.median()"
   ]
  },
  {
   "cell_type": "code",
   "execution_count": 46,
   "id": "e9641d0a-3b2b-4d1f-abbf-0eda5f2a166d",
   "metadata": {},
   "outputs": [],
   "source": [
    "df.horsepower = df.horsepower.fillna(df.horsepower.median())"
   ]
  },
  {
   "cell_type": "code",
   "execution_count": 47,
   "id": "97020049-2652-4bd3-b4fd-f05383dac424",
   "metadata": {},
   "outputs": [
    {
     "data": {
      "text/plain": [
       "np.float64(149.0)"
      ]
     },
     "execution_count": 47,
     "metadata": {},
     "output_type": "execute_result"
    }
   ],
   "source": [
    "df.horsepower.median()"
   ]
  },
  {
   "cell_type": "markdown",
   "id": "cd764de1-3f79-4875-a625-dda764e42b46",
   "metadata": {},
   "source": [
    "### Q7. Sum of weights"
   ]
  },
  {
   "cell_type": "code",
   "execution_count": 81,
   "id": "7b095957-5e9a-4b5b-86a0-3fbb9a8182be",
   "metadata": {},
   "outputs": [],
   "source": [
    "X = df[df.origin == \"Asia\"][[\"vehicle_weight\", \"model_year\"]].head(7).values"
   ]
  },
  {
   "cell_type": "code",
   "execution_count": 98,
   "id": "e4400d57-a1a1-4379-8122-006b3af61562",
   "metadata": {},
   "outputs": [],
   "source": [
    "XTX = X.T.dot(X)"
   ]
  },
  {
   "cell_type": "code",
   "execution_count": 83,
   "id": "74460bfc-8e61-4875-b5c0-8ca86b184541",
   "metadata": {},
   "outputs": [],
   "source": [
    "XTXinv = np.linalg.inv(XTX)"
   ]
  },
  {
   "cell_type": "code",
   "execution_count": 85,
   "id": "2f9e49ca-2319-4919-a6ab-4e53c6f861f5",
   "metadata": {},
   "outputs": [],
   "source": [
    "y = np.array([1100, 1300, 800, 900, 1000, 1100, 1200])"
   ]
  },
  {
   "cell_type": "code",
   "execution_count": 103,
   "id": "856412a9-ea73-443a-a55e-527091d79eca",
   "metadata": {},
   "outputs": [
    {
     "data": {
      "text/plain": [
       "np.float64(0.5187709081074006)"
      ]
     },
     "execution_count": 103,
     "metadata": {},
     "output_type": "execute_result"
    }
   ],
   "source": [
    "(XTXinv.dot(X.T)).dot(y).sum()"
   ]
  },
  {
   "cell_type": "code",
   "execution_count": 104,
   "id": "856ee72e-3dd9-4490-a497-200099c9894b",
   "metadata": {},
   "outputs": [
    {
     "data": {
      "text/plain": [
       "np.float64(0.52)"
      ]
     },
     "execution_count": 104,
     "metadata": {},
     "output_type": "execute_result"
    }
   ],
   "source": [
    "(XTXinv.dot(X.T)).dot(y).sum().round(2)"
   ]
  }
 ],
 "metadata": {
  "kernelspec": {
   "display_name": "Python 3 (ipykernel)",
   "language": "python",
   "name": "python3"
  },
  "language_info": {
   "codemirror_mode": {
    "name": "ipython",
    "version": 3
   },
   "file_extension": ".py",
   "mimetype": "text/x-python",
   "name": "python",
   "nbconvert_exporter": "python",
   "pygments_lexer": "ipython3",
   "version": "3.13.2"
  }
 },
 "nbformat": 4,
 "nbformat_minor": 5
}
